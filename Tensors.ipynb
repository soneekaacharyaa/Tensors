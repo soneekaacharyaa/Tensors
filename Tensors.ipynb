{
  "nbformat": 4,
  "nbformat_minor": 0,
  "metadata": {
    "colab": {
      "provenance": [],
      "authorship_tag": "ABX9TyPo2xj3Vr7YxE4dFkCpblza",
      "include_colab_link": true
    },
    "kernelspec": {
      "name": "python3",
      "display_name": "Python 3"
    },
    "language_info": {
      "name": "python"
    }
  },
  "cells": [
    {
      "cell_type": "markdown",
      "metadata": {
        "id": "view-in-github",
        "colab_type": "text"
      },
      "source": [
        "<a href=\"https://colab.research.google.com/github/soneekaacharyaa/Tensors/blob/main/Tensors.ipynb\" target=\"_parent\"><img src=\"https://colab.research.google.com/assets/colab-badge.svg\" alt=\"Open In Colab\"/></a>"
      ]
    },
    {
      "cell_type": "markdown",
      "source": [
        "# Tensors\n",
        "\n",
        "* Primary data structures used by neural networks\n",
        "* Multidimensional array of numeric values\n",
        "* Represent input data, weights, biases and other parameters of neural networks\n",
        "* Similar to Numpy's ndarrays except that tensors can run on GPUs or other accelerators"
      ],
      "metadata": {
        "id": "Twi-CBhhVNyu"
      }
    },
    {
      "cell_type": "code",
      "source": [
        "%matplotlib inline\n",
        "import torch\n",
        "import numpy"
      ],
      "metadata": {
        "id": "hwCuVrgKVOVR"
      },
      "execution_count": 1,
      "outputs": []
    },
    {
      "cell_type": "markdown",
      "source": [
        "## Tensor Initialization\n",
        "\n",
        "**Directly from data**"
      ],
      "metadata": {
        "id": "w9yBqiX-VZHf"
      }
    },
    {
      "cell_type": "code",
      "source": [
        "x = [[1,2,3],[4,5,6]]\n",
        "x_tensor = torch.tensor(x)\n",
        "x_tensor"
      ],
      "metadata": {
        "colab": {
          "base_uri": "https://localhost:8080/"
        },
        "id": "HG3YhaS2VU81",
        "outputId": "a9d502f7-6647-4b55-8be7-0c2a83d02484"
      },
      "execution_count": 2,
      "outputs": [
        {
          "output_type": "execute_result",
          "data": {
            "text/plain": [
              "tensor([[1, 2, 3],\n",
              "        [4, 5, 6]])"
            ]
          },
          "metadata": {},
          "execution_count": 2
        }
      ]
    },
    {
      "cell_type": "code",
      "source": [],
      "metadata": {
        "id": "yWwoE6pyVelw"
      },
      "execution_count": null,
      "outputs": []
    }
  ]
}